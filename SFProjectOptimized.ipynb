{
  "nbformat": 4,
  "nbformat_minor": 0,
  "metadata": {
    "colab": {
      "provenance": []
    },
    "kernelspec": {
      "name": "python3",
      "display_name": "Python 3"
    },
    "language_info": {
      "name": "python"
    }
  },
  "cells": [
    {
      "cell_type": "code",
      "execution_count": 1,
      "metadata": {
        "colab": {
          "base_uri": "https://localhost:8080/",
          "height": 106
        },
        "id": "AZSfr1IJks3Q",
        "outputId": "8b2d2a98-7a62-493d-a607-ea798b4857cd"
      },
      "outputs": [
        {
          "output_type": "error",
          "ename": "SyntaxError",
          "evalue": "invalid decimal literal (<ipython-input-1-11e802e2a43c>, line 6)",
          "traceback": [
            "\u001b[0;36m  File \u001b[0;32m\"<ipython-input-1-11e802e2a43c>\"\u001b[0;36m, line \u001b[0;32m6\u001b[0m\n\u001b[0;31m    FROM `bigquery-public-data.san_francisco.311_service_requests`\u001b[0m\n\u001b[0m                                                ^\u001b[0m\n\u001b[0;31mSyntaxError\u001b[0m\u001b[0;31m:\u001b[0m invalid decimal literal\n"
          ]
        }
      ],
      "source": [
        "#Query for 311 Calls\n",
        "WITH top_incidents AS (\n",
        "SELECT\n",
        "        incident_address,\n",
        "        category,\n",
        "        COUNT(*) AS num_incidents\n",
        "FROM `bigquery-public-data.san_francisco.311_service_requests`\n",
        "GROUP BY category, incident_address\n",
        "ORDER BY num_incidents DESC\n",
        "LIMIT 20\n",
        ")\n",
        "\n",
        "\n",
        "SELECT * FROM top_incidents\n",
        "ORDER BY num_incidents DESC\n"
      ]
    },
    {
      "cell_type": "code",
      "source": [
        "#Query for available bike stations\n",
        "SELECT *\n",
        "FROM `bigquery-public-data.san_francisco.bikeshare_stations`\n",
        "ORDER BY dockcount DESC\n",
        "LIMIT 20;\n"
      ],
      "metadata": {
        "id": "bAwoKcOtkxBV"
      },
      "execution_count": null,
      "outputs": []
    },
    {
      "cell_type": "code",
      "source": [
        "#Query for bike stations with more than 20 docks\n",
        "SELECT bs.station_id, bs.name AS station_name, bs.latitude, bs.longitude, bst.bikes_available, bst.docks_available, bst.time\n",
        "FROM `bigquery-public-data.san_francisco.bikeshare_stations` bs\n",
        "JOIN `bigquery-public-data.san_francisco.bikeshare_status`  bst ON bs.station_id = bst.station_id AND bs.dockcount > 20\n",
        "LIMIT 20\n"
      ],
      "metadata": {
        "id": "k2CbTwK-k_Uq"
      },
      "execution_count": null,
      "outputs": []
    },
    {
      "cell_type": "code",
      "source": [
        "#Query for SFPD Incidents\n",
        "SELECT category AS Crime, descript AS Description, pddistrict AS District, address, resolution, dayofweek AS date, timestamp\n",
        "FROM `bigquery-public-data.san_francisco.sfpd_incidents`\n",
        "ORDER BY EXTRACT(DAYOFWEEK FROM timestamp), timestamp\n",
        "LIMIT 20"
      ],
      "metadata": {
        "id": "GRJSAzbFlKDv"
      },
      "execution_count": null,
      "outputs": []
    },
    {
      "cell_type": "code",
      "source": [
        "#Query for SFFD Calls\n",
        "SELECT  call_date AS Date, unit_id AS Unit, station_area AS Station, call_type AS Reason, response_timestamp AS ResponseTime, address, city, zipcode_of_incident AS Zipcode\n",
        "FROM `bigquery-public-data.san_francisco.sffd_service_calls`\n",
        "ORDER BY date DESC\n",
        "LIMIT 20"
      ],
      "metadata": {
        "id": "AsuS46i6lOUf"
      },
      "execution_count": null,
      "outputs": []
    },
    {
      "cell_type": "code",
      "source": [
        "#Query to get the station along with the times\n",
        "SELECT bs.station_id, bs.name AS station_name, bs.latitude, bs.longitude, bst.bikes_available, bst.docks_available, bst.time\n",
        "FROM `bigquery-public-data.san_francisco.bikeshare_stations` bs\n",
        "JOIN `bigquery-public-data.san_francisco.bikeshare_status`  bst ON bs.station_id = bst.station_id\n",
        "LIMIT 20"
      ],
      "metadata": {
        "id": "OST7ndAOlOOg"
      },
      "execution_count": null,
      "outputs": []
    },
    {
      "cell_type": "code",
      "source": [
        "#Query to get avg bikes and docks available\n",
        "SELECT AVG(bsu.bikes_available) AS avg_bikes_available, AVG(bsu.docks_available) AS avg_docks_available, TIMESTAMP_TRUNC(bsu.time, HOUR) AS rounded_time\n",
        "FROM `bigquery-public-data.san_francisco.bikeshare_status` bsu\n",
        "GROUP BY rounded_time\n",
        "LIMIT 20"
      ],
      "metadata": {
        "id": "M7Mn4bAKlNUD"
      },
      "execution_count": null,
      "outputs": []
    },
    {
      "cell_type": "code",
      "source": [
        "#Query for crimes near a station\n",
        "SELECT bs.station_id as Station, bs.latitude AS BikeShare_Lat, bs.longitude AS BikeShare_Lon, SFPD.latitude AS SFPD_Lat, SFPD.longitude AS SFPD_Lon\n",
        "FROM `bigquery-public-data.san_francisco.bikeshare_stations` bs\n",
        "JOIN `bigquery-public-data.san_francisco.sfpd_incidents` SFPD ON bs.latitude - SFPD.latitude < 0.1 AND bs.longitude - SFPD.longitude < 0.1\n",
        "LIMIT 20\n"
      ],
      "metadata": {
        "id": "selV8GGrlQP0"
      },
      "execution_count": null,
      "outputs": []
    }
  ]
}